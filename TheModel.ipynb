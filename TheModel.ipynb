{
 "cells": [
  {
   "cell_type": "code",
   "execution_count": 7,
   "id": "a03cf1eb-a2ac-4667-9b44-2c6103407dbc",
   "metadata": {
    "scrolled": true
   },
   "outputs": [
    {
     "name": "stdout",
     "output_type": "stream",
     "text": [
      "['L figure ', 'J figure ', 'Z figure ', 'S figure ', 'O figure ', 'I figure ', 'J figure ', 'L figure ', 'S figure ', 'Z figure ', 'O figure ']\n",
      "['(Left(Left(Left(Left(Right', '(Right(Left(Right(Left(Right(Left(Left ', '(Right(Left(Right(Left(Right', '(Left(Left(Left(Left', '(Left(Right(Left(Right(Left', '(Left(Right(Left(Left(Right(Left', '(Left(Left(Left(Left(Left(Left(Left', '(Left(Left(Left(Left(Left(Left', '(Left(Left(Left(Left(Right(Right(Left', '(Left(Left(Left(Right(Left(Left(Right', '(Left(Left(Left(Left(Left(Left(Left']\n",
      "['image nr 5438668776.jpg', 'image nr 905141194.jpg', 'image nr 2411473995.jpg', 'image nr 1555817194.jpg', 'image nr 7154670506.jpg', 'image nr 31881187.jpg', 'image nr 8951308933.jpg', 'image nr 24118498.jpg', 'image nr 460190414.jpg', 'image nr 4198291121.jpg', 'image nr 1189216182.jpg']\n",
      "['score=0', 'score=100', 'score=100', 'score=128', 'score=142', 'score=142', 'score=142', 'score=142', 'score=142', 'score=142', 'score=108']\n",
      "['STILL_PLAYING', 'STILL_PLAYING', 'STILL_PLAYING', 'STILL_PLAYING', 'STILL_PLAYING', 'STILL_PLAYING', 'STILL_PLAYING', 'STILL_PLAYING', 'STILL_PLAYING', 'STILL_PLAYING', 'STILL_PLAYING']\n",
      "[['', 'Left', 'Left', 'Left', 'Left', 'Right'], ['', 'Right', 'Left', 'Right', 'Left', 'Right', 'Left', 'Left '], ['', 'Right', 'Left', 'Right', 'Left', 'Right'], ['', 'Left', 'Left', 'Left', 'Left'], ['', 'Left', 'Right', 'Left', 'Right', 'Left'], ['', 'Left', 'Right', 'Left', 'Left', 'Right', 'Left'], ['', 'Left', 'Left', 'Left', 'Left', 'Left', 'Left', 'Left'], ['', 'Left', 'Left', 'Left', 'Left', 'Left', 'Left'], ['', 'Left', 'Left', 'Left', 'Left', 'Right', 'Right', 'Left'], ['', 'Left', 'Left', 'Left', 'Right', 'Left', 'Left', 'Right'], ['', 'Left', 'Left', 'Left', 'Left', 'Left', 'Left', 'Left']]\n"
     ]
    }
   ],
   "source": [
    "import re\n",
    "\n",
    "stats = open(\"Results.txt\")\n",
    "statString = stats.read()\n",
    "list = re.split(r\"[:\\n[;*]\",statString)\n",
    "figures = []\n",
    "directions = []\n",
    "images = []\n",
    "score = []\n",
    "status = []\n",
    "splitDirections = []\n",
    "\n",
    "\n",
    "\n",
    "for item in list:\n",
    "    if item.endswith(\"figure \"):\n",
    "        figures.append(item)\n",
    "    if item.startswith(\"(\"):\n",
    "        directions.append(item)\n",
    "    if item.startswith(\"image\"):\n",
    "        images.append(item)\n",
    "    if item.startswith(\"score\"):\n",
    "        score.append(item)\n",
    "    if item.startswith(\"STILL\") or item.startswith(\"GAME\"):\n",
    "        status.append(item)\n",
    "\n",
    "for d in directions:\n",
    "    allDir = d.split(\"(\")\n",
    "    splitDirections.append(allDir)\n",
    "    \n",
    "        \n",
    "print(figures)\n",
    "print(directions)\n",
    "print(images)\n",
    "print(score)\n",
    "print(status)\n",
    "print(splitDirections)\n"
   ]
  },
  {
   "cell_type": "code",
   "execution_count": null,
   "id": "5a2a86a4-a0fa-42b7-b230-6982858cccb8",
   "metadata": {},
   "outputs": [],
   "source": []
  },
  {
   "cell_type": "code",
   "execution_count": null,
   "id": "d7e732ba-adaa-45e2-bbf8-d5f79bd2c96f",
   "metadata": {},
   "outputs": [],
   "source": []
  }
 ],
 "metadata": {
  "kernelspec": {
   "display_name": "Python 3 (ipykernel)",
   "language": "python",
   "name": "python3"
  },
  "language_info": {
   "codemirror_mode": {
    "name": "ipython",
    "version": 3
   },
   "file_extension": ".py",
   "mimetype": "text/x-python",
   "name": "python",
   "nbconvert_exporter": "python",
   "pygments_lexer": "ipython3",
   "version": "3.9.21"
  }
 },
 "nbformat": 4,
 "nbformat_minor": 5
}

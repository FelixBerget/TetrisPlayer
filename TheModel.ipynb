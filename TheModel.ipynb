{
 "cells": [
  {
   "cell_type": "code",
   "execution_count": 3,
   "id": "a03cf1eb-a2ac-4667-9b44-2c6103407dbc",
   "metadata": {
    "scrolled": true
   },
   "outputs": [
    {
     "name": "stdout",
     "output_type": "stream",
     "text": [
      "[]\n",
      "[]\n",
      "[]\n",
      "[]\n",
      "[]\n",
      "[]\n",
      "7702\n"
     ]
    }
   ],
   "source": [
    "import re\n",
    "from tensorflow.keras.layers import Conv2D, MaxPooling2D, Flatten\n",
    "from tensorflow.keras.layers import LSTM, Dense, Input\n",
    "from tensorflow.keras.models import Model\n",
    "from PIL import Image\n",
    "from numpy import asarray\n",
    "\n",
    "\n",
    "stats = open(\"Results.txt\")\n",
    "statString = stats.read()\n",
    "list = re.split(r\"[:\\n[;*]\",statString)\n",
    "figures = []\n",
    "directions = []\n",
    "images = []\n",
    "score = []\n",
    "status = []\n",
    "splitDirections = []\n",
    "imagesAsArray = []\n",
    "\n",
    "\n",
    "\n",
    "for item in list:\n",
    "    if item.endswith(\"figure \"):\n",
    "        figures.append(item)\n",
    "    if item.startswith(\"(\"):\n",
    "        directions.append(item)\n",
    "    if item.startswith(\"image\"):\n",
    "        images.append(item)\n",
    "    if item.startswith(\"score\"):\n",
    "        score.append(item)\n",
    "    if item.startswith(\"STILL\") or item.startswith(\"GAME\"):\n",
    "        status.append(item)\n",
    "\n",
    "for d in directions:\n",
    "    allDir = d.split(\"(\")\n",
    "    splitDirections.append(allDir)\n",
    "    \n",
    "        \n",
    "print(figures)\n",
    "print(directions)\n",
    "print(images)\n",
    "print(score)\n",
    "print(status)\n",
    "print(splitDirections)\n",
    "\n",
    "#size of the image for the input\n",
    "imageSize = 77*100\n",
    "#how we encode the moves example here is 0=right, 1=left and so on\n",
    "moves = 1\n",
    "#how many figures we send, aka 1\n",
    "figure = 1\n",
    "\n",
    "\n",
    "\n",
    "#all features togheter\n",
    "featuresPerTimestamp = imageSize+moves+figure\n",
    "\n",
    "for i in images:\n",
    "    try:\n",
    "        img = Image.open(f\"Images/{i}\")\n",
    "        img = img.resize((77,100))\n",
    "        img = img.save(f\"ResizedImages/{i}\")\n",
    "        arrayImg = asarray(img)\n",
    "        imagesAsArray.append(arrayImg)\n",
    "    except IOError:\n",
    "        pass\n",
    "\n",
    "    \n",
    "    \n",
    "    \n",
    "\n",
    "#the layer for the input\n",
    "inputLayer = Input(shape=(3, featuresPerTimestamp))\n",
    "#Layer for the RNN\n",
    "lstmLayer = LSTM(units=64)(inputLayer)\n",
    "#Dense layer before the output\n",
    "denseLayer = Dense(units=64, activation=\"relu\")(lstmLayer)\n",
    "#Output which is either that it predicts GAME_OVER or STILL_PLAYING\n",
    "outputLayer = Dense(units=1, activation =\"sigmoid\")(denseLayer)\n",
    "#Model\n",
    "model = Model(inputs=inputLayer, outputs=outputLayer)\n",
    "print(featuresPerTimestamp)"
   ]
  },
  {
   "cell_type": "code",
   "execution_count": null,
   "id": "5a2a86a4-a0fa-42b7-b230-6982858cccb8",
   "metadata": {},
   "outputs": [],
   "source": []
  },
  {
   "cell_type": "code",
   "execution_count": null,
   "id": "d7e732ba-adaa-45e2-bbf8-d5f79bd2c96f",
   "metadata": {},
   "outputs": [],
   "source": []
  }
 ],
 "metadata": {
  "kernelspec": {
   "display_name": "Python 3 (ipykernel)",
   "language": "python",
   "name": "python3"
  },
  "language_info": {
   "codemirror_mode": {
    "name": "ipython",
    "version": 3
   },
   "file_extension": ".py",
   "mimetype": "text/x-python",
   "name": "python",
   "nbconvert_exporter": "python",
   "pygments_lexer": "ipython3",
   "version": "3.9.21"
  }
 },
 "nbformat": 4,
 "nbformat_minor": 5
}

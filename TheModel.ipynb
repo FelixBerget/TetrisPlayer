{
 "cells": [
  {
   "cell_type": "code",
   "execution_count": 3,
   "id": "a03cf1eb-a2ac-4667-9b44-2c6103407dbc",
   "metadata": {
    "scrolled": true
   },
   "outputs": [
    {
     "name": "stdout",
     "output_type": "stream",
     "text": [
      "['Z figure ', 'I figure ', 'S figure ', 'L figure ', 'Z figure ', 'Z figure ', 'O figure ', 'J figure ', 'I figure ', 'S figure ', 'O figure ', 'I figure ', 'L figure ', 'S figure ', 'Z figure ', 'S figure ', 'Z figure ', 'L figure ', 'I figure ', 'J figure ', 'Z figure ', 'O figure ', 'O figure ', 'Z figure ', 'Z figure ', 'I figure ', 'L figure ', 'S figure ', 'Z figure ', 'J figure ', 'O figure ', 'I figure ', 'S figure ', 'O figure ', 'I figure ', 'J figure ', 'L figure ', 'S figure ', 'Z figure ', 'Z figure ', 'J figure ', 'Z figure ', 'L figure ', 'I figure ', 'S figure ', 'O figure ', 'S figure ', 'I figure ', 'O figure ', 'L figure ', 'Z figure ', 'Z figure ', 'J figure ', 'I figure ', 'O figure ', 'S figure ', 'S figure ', 'Z figure ', 'I figure ', 'L figure ', 'O figure ', 'Z figure ', 'L figure ', 'Z figure ', 'J figure ', 'S figure ', 'Z figure ', 'I figure ', 'O figure ', 'J figure ', 'L figure ', 'I figure ', 'O figure ', 'Z figure ', 'Z figure ', 'O figure ', 'S figure ', 'L figure ', 'J figure ', 'Z figure ', 'I figure ', 'I figure ', 'Z figure ', 'O figure ', 'J figure ', 'L figure ', 'S figure ', 'Z figure ', 'Z figure ', 'O figure ', 'Z figure ', 'I figure ', 'Z figure ', 'L figure ', 'S figure ', 'J figure ', 'J figure ', 'L figure ', 'I figure ', 'S figure ', 'O figure ', 'L figure ', 'S figure ', 'Z figure ', 'L figure ', 'J figure ', 'Z figure ', 'S figure ', 'Z figure ', 'O figure ', 'I figure ', 'S figure ', 'O figure ', 'L figure ', 'O figure ', 'I figure ', 'J figure ', 'L figure ', 'S figure ']\n",
      "['(Right(Left', '(rotateLeft(Left(rotateRight', '(rotateRight(Right(Right', '(rotateLeft(Right(rotateRight', '(Right(Right', '(rotateRight', '(rotateLeft(Left', '(rotateRight(rotateLeft', '(Right(Left(rotateLeft', '(rotateRight(Right(rotateLeft', '(Left(rotateRight(rotateLeft', '(Left', '(rotateRight', '(Right(rotateRight', '(Right(Left', '(Left(Right', '(Right(Right', '(rotateRight(rotateRight', '(rotateLeft(rotateLeft', '(rotateLeft(Right(rotateLeft', '(Right(rotateLeft(rotateRight', '(rotateLeft', '(rotateLeft(Left', '(Right(rotateLeft', '(rotateRight(rotateLeft(rotateLeft', '(rotateLeft(rotateLeft', '(Left(rotateLeft', '(rotateRight(rotateLeft(rotateRight', '(Left(Right(rotateLeft', '(rotateLeft(Right(Right', '(rotateLeft(rotateLeft(rotateRight', '(Left(rotateLeft', '(rotateRight(Left(Right', '(Left(Left(rotateLeft', '(rotateLeft(rotateRight', '(rotateRight(rotateLeft(rotateRight', '(rotateLeft(rotateRight', '(Right(rotateLeft(Right', '(Left(Right(rotateRight', '(Right(Left(rotateRight', '(rotateLeft(rotateRight', '(Left(Left', '(Right(Right(rotateRight', '(rotateRight(rotateRight', '(Right(Right', '(Right(Right', '(Left(Left(Left', '(rotateRight(rotateLeft', '(rotateLeft(rotateLeft', '(rotateRight', '(rotateRight(Left(rotateRight', '(Left(rotateLeft', '(Left(Left(rotateRight', '(Right', '(Right', '(Left(Right(Left', '(Left(Left', '(Right(Left(Right', '(rotateRight(rotateRight(Right', '(rotateLeft(rotateLeft(Left', '(Right(rotateLeft(rotateRight', '(Left(Left', '(rotateRight(rotateRight(rotateRight', '(Right(Right', '(Left(rotateRight', '(Right(rotateRight(rotateLeft', '(Left(rotateRight(rotateRight', '(rotateRight(rotateLeft(rotateLeft', '(Left(Left', '(Right(rotateLeft', '(Right', '(rotateRight(Left(rotateRight', '(Left(Right(rotateRight', '(Left(Right', '(rotateRight(rotateLeft', '(Left(rotateLeft', '(Right', '(Left(rotateLeft(rotateLeft', '(rotateRight(rotateRight(rotateRight', '(Right(rotateLeft(Left', '(Left(Right', '(rotateLeft(rotateRight', '(Left(rotateRight(Right', '(rotateLeft(rotateRight(Right', '(Right(rotateRight', '(Left', '(Right(rotateRight(Right', '(Right(Right', '(rotateLeft(rotateLeft', '(Left(Right(rotateRight', '(Left(rotateRight', '(rotateRight', '(Right(rotateLeft(rotateRight', '(rotateRight(Left', '(rotateRight(Right(rotateLeft', '(Right(rotateRight', '(rotateLeft(rotateRight(Left', '(Left(Left(rotateRight', '(Left(Left(rotateLeft', '(rotateRight(Left(rotateRight', '(Right(rotateRight(Right', '(rotateRight(rotateLeft', '(rotateLeft(Left(Right', '(rotateLeft(Left(Left', '(Right(Right', '(rotateLeft(Left(Right', '(rotateLeft(Left(rotateLeft', '(rotateRight(rotateLeft(Left', '(Left(Left', '(rotateRight(Right(Left', '(rotateRight(Left(Left', '(rotateLeft(Left(Left', '(rotateLeft(Right', '(Right(Left(Left', '(Right(Right(rotateLeft', '(Left', '(rotateLeft(rotateRight', '(Left(Left(Left', '(Left(rotateLeft(rotateRight']\n",
      "['image nr 5741398870.jpg', 'image nr 4981598801.jpg', 'image nr 6075708278.jpg', 'image nr 7945566442.jpg', 'image nr 8663913883.jpg', 'image nr 9022536837.jpg', 'image nr 4342368714.jpg', 'image nr 4436607398.jpg', 'image nr 577574627.jpg', 'image nr 1554109750.jpg', 'image nr 5339916716.jpg', 'image nr 7216547388.jpg', 'image nr 7612321312.jpg', 'image nr 8205226611.jpg', 'image nr 20341865.jpg', 'image nr 1375235361.jpg', 'image nr 6430000261.jpg', 'image nr 4849969564.jpg', 'image nr 7448437443.jpg', 'image nr 5835531995.jpg', 'image nr 951727831.jpg', 'image nr 5745429624.jpg', 'image nr 5767809142.jpg', 'image nr 3765237582.jpg', 'image nr 1793137846.jpg', 'image nr 2288432858.jpg', 'image nr 7662022473.jpg', 'image nr 1174985768.jpg', 'image nr 3204683146.jpg', 'image nr 7153916421.jpg', 'image nr 413140170.jpg', 'image nr 904954891.jpg', 'image nr 1079203511.jpg', 'image nr 347098525.jpg', 'image nr 6207832151.jpg', 'image nr 9329500853.jpg', 'image nr 9458337656.jpg', 'image nr 9380293235.jpg', 'image nr 5784033348.jpg', 'image nr 9123804304.jpg', 'image nr 1821027125.jpg', 'image nr 1970847422.jpg', 'image nr 1404398638.jpg', 'image nr 4429254739.jpg', 'image nr 4814569784.jpg', 'image nr 3022483780.jpg', 'image nr 7763303875.jpg', 'image nr 7301299631.jpg', 'image nr 7161722197.jpg', 'image nr 2301313101.jpg', 'image nr 4155599785.jpg', 'image nr 8930760986.jpg', 'image nr 183805847.jpg', 'image nr 8897889322.jpg', 'image nr 6969636458.jpg', 'image nr 7070990223.jpg', 'image nr 6276686629.jpg', 'image nr 852060168.jpg', 'image nr 2570974983.jpg', 'image nr 7697004826.jpg', 'image nr 5964615157.jpg', 'image nr 1862288411.jpg', 'image nr 6780176558.jpg', 'image nr 502723211.jpg', 'image nr 7592303513.jpg', 'image nr 8938294283.jpg', 'image nr 8803218147.jpg', 'image nr 7272351477.jpg', 'image nr 9292367272.jpg', 'image nr 6654810694.jpg', 'image nr 1051510446.jpg', 'image nr 5042416506.jpg', 'image nr 6403429295.jpg', 'image nr 2164215543.jpg', 'image nr 1085289837.jpg', 'image nr 2226977296.jpg', 'image nr 7902697610.jpg', 'image nr 2884329152.jpg', 'image nr 1982161255.jpg', 'image nr 7051328146.jpg', 'image nr 8083856448.jpg', 'image nr 4209367117.jpg', 'image nr 8060146938.jpg', 'image nr 3906453270.jpg', 'image nr 4517315889.jpg', 'image nr 4487378194.jpg', 'image nr 5622853168.jpg', 'image nr 5308478547.jpg', 'image nr 5097201691.jpg', 'image nr 8929441740.jpg', 'image nr 7070700187.jpg', 'image nr 6531401695.jpg', 'image nr 602892772.jpg', 'image nr 79296101.jpg', 'image nr 1829278193.jpg', 'image nr 4950739812.jpg', 'image nr 8028171202.jpg', 'image nr 52931767.jpg', 'image nr 1076199698.jpg', 'image nr 7344272325.jpg', 'image nr 7551877372.jpg', 'image nr 7865122628.jpg', 'image nr 7746207162.jpg', 'image nr 4319670885.jpg', 'image nr 715980485.jpg', 'image nr 9132778798.jpg', 'image nr 183226280.jpg', 'image nr 9615391275.jpg', 'image nr 621250789.jpg', 'image nr 1748788950.jpg', 'image nr 2794991650.jpg', 'image nr 2765798814.jpg', 'image nr 3051154297.jpg', 'image nr 7405792252.jpg', 'image nr 1196435850.jpg', 'image nr 5474373260.jpg', 'image nr 5820334952.jpg', 'image nr 4293731616.jpg', 'image nr 116658163.jpg']\n",
      "['score=0', 'score=56', 'score=0', 'score=0', 'score=0', 'score=0', 'score=0', 'score=0', 'score=0', 'score=0', 'score=0', 'score=0', 'score=0', 'score=0', 'score=0', 'score=0', 'score=0', 'score=0', 'score=0', 'score=0', 'score=0', 'score=0', 'score=0', 'score=0', 'score=0', 'score=0', 'score=0', 'score=0', 'score=0', 'score=0', 'score=0', 'score=0', 'score=0', 'score=0', 'score=0', 'score=0', 'score=0', 'score=0', 'score=0', 'score=0', 'score=0', 'score=0', 'score=0', 'score=0', 'score=0', 'score=0', 'score=0', 'score=0', 'score=4UL', 'score=0', 'score=0', 'score=0', 'score=0', 'score=0', 'score=0', 'score=0', 'score=0', 'score=0', 'score=0', 'score=0', 'score=0', 'score=0', 'score=0', 'score=0', 'score=0', 'score=0', 'score=0', 'score=0', 'score=0', 'score=0', 'score=0', 'score=0', 'score=0', 'score=0', 'score=0', 'score=0', 'score=0', 'score=0', 'score=0', 'score=0', 'score=0', 'score=0', 'score=0', 'score=0', 'score=0', 'score=0', 'score=0', 'score=0', 'score=0', 'score=0', 'score=0', 'score=0', 'score=0', 'score=0', 'score=0', 'score=0', 'score=0', 'score=0', 'score=0', 'score=0', 'score=0', 'score=0', 'score=0', 'score=0', 'score=0', 'score=0', 'score=0', 'score=0', 'score=0', 'score=0', 'score=0', 'score=0', 'score=0', 'score=0', 'score=0', 'score=0', 'score=0', 'score=0', 'score=0']\n",
      "['STILL_PLAYING', 'STILL_PLAYING', 'STILL_PLAYING', 'STILL_PLAYING', 'STILL_PLAYING', 'STILL_PLAYING', 'STILL_PLAYING', 'STILL_PLAYING', 'STILL_PLAYING', 'STILL_PLAYING', 'STILL_PLAYING', 'STILL_PLAYING', 'STILL_PLAYING', 'STILL_PLAYING', 'STILL_PLAYING', 'STILL_PLAYING', 'STILL_PLAYING', 'STILL_PLAYING', 'STILL_PLAYING', 'STILL_PLAYING', 'STILL_PLAYING', 'STILL_PLAYING', 'GAME_OVER', 'GAME_OVER', 'STILL_PLAYING', 'STILL_PLAYING', 'STILL_PLAYING', 'STILL_PLAYING', 'STILL_PLAYING', 'STILL_PLAYING', 'STILL_PLAYING', 'STILL_PLAYING', 'STILL_PLAYING', 'STILL_PLAYING', 'STILL_PLAYING', 'STILL_PLAYING', 'STILL_PLAYING', 'STILL_PLAYING', 'STILL_PLAYING', 'STILL_PLAYING', 'STILL_PLAYING', 'STILL_PLAYING', 'STILL_PLAYING', 'STILL_PLAYING', 'STILL_PLAYING', 'STILL_PLAYING', 'STILL_PLAYING', 'STILL_PLAYING', 'STILL_PLAYING', 'STILL_PLAYING', 'STILL_PLAYING', 'STILL_PLAYING', 'STILL_PLAYING', 'STILL_PLAYING', 'STILL_PLAYING', 'STILL_PLAYING', 'STILL_PLAYING', 'STILL_PLAYING', 'STILL_PLAYING', 'STILL_PLAYING', 'GAME_OVER', 'GAME_OVER', 'STILL_PLAYING', 'STILL_PLAYING', 'STILL_PLAYING', 'STILL_PLAYING', 'STILL_PLAYING', 'STILL_PLAYING', 'STILL_PLAYING', 'STILL_PLAYING', 'STILL_PLAYING', 'STILL_PLAYING', 'GAME_OVER', 'GAME_OVER', 'STILL_PLAYING', 'STILL_PLAYING', 'STILL_PLAYING', 'STILL_PLAYING', 'STILL_PLAYING', 'STILL_PLAYING', 'STILL_PLAYING', 'STILL_PLAYING', 'STILL_PLAYING', 'GAME_OVER', 'GAME_OVER', 'GAME_OVER', 'GAME_OVER', 'GAME_OVER', 'GAME_OVER', 'STILL_PLAYING', 'STILL_PLAYING', 'STILL_PLAYING', 'STILL_PLAYING', 'STILL_PLAYING', 'STILL_PLAYING', 'STILL_PLAYING', 'STILL_PLAYING', 'STILL_PLAYING', 'STILL_PLAYING', 'STILL_PLAYING', 'GAME_OVER', 'GAME_OVER', 'GAME_OVER', 'GAME_OVER', 'STILL_PLAYING', 'STILL_PLAYING', 'STILL_PLAYING', 'STILL_PLAYING', 'STILL_PLAYING', 'STILL_PLAYING', 'STILL_PLAYING', 'STILL_PLAYING', 'STILL_PLAYING', 'STILL_PLAYING', 'STILL_PLAYING', 'STILL_PLAYING', 'STILL_PLAYING', 'STILL_PLAYING', 'STILL_PLAYING']\n",
      "[['', 'Right', 'Left'], ['', 'rotateLeft', 'Left', 'rotateRight'], ['', 'rotateRight', 'Right', 'Right'], ['', 'rotateLeft', 'Right', 'rotateRight'], ['', 'Right', 'Right'], ['', 'rotateRight'], ['', 'rotateLeft', 'Left'], ['', 'rotateRight', 'rotateLeft'], ['', 'Right', 'Left', 'rotateLeft'], ['', 'rotateRight', 'Right', 'rotateLeft'], ['', 'Left', 'rotateRight', 'rotateLeft'], ['', 'Left'], ['', 'rotateRight'], ['', 'Right', 'rotateRight'], ['', 'Right', 'Left'], ['', 'Left', 'Right'], ['', 'Right', 'Right'], ['', 'rotateRight', 'rotateRight'], ['', 'rotateLeft', 'rotateLeft'], ['', 'rotateLeft', 'Right', 'rotateLeft'], ['', 'Right', 'rotateLeft', 'rotateRight'], ['', 'rotateLeft'], ['', 'rotateLeft', 'Left'], ['', 'Right', 'rotateLeft'], ['', 'rotateRight', 'rotateLeft', 'rotateLeft'], ['', 'rotateLeft', 'rotateLeft'], ['', 'Left', 'rotateLeft'], ['', 'rotateRight', 'rotateLeft', 'rotateRight'], ['', 'Left', 'Right', 'rotateLeft'], ['', 'rotateLeft', 'Right', 'Right'], ['', 'rotateLeft', 'rotateLeft', 'rotateRight'], ['', 'Left', 'rotateLeft'], ['', 'rotateRight', 'Left', 'Right'], ['', 'Left', 'Left', 'rotateLeft'], ['', 'rotateLeft', 'rotateRight'], ['', 'rotateRight', 'rotateLeft', 'rotateRight'], ['', 'rotateLeft', 'rotateRight'], ['', 'Right', 'rotateLeft', 'Right'], ['', 'Left', 'Right', 'rotateRight'], ['', 'Right', 'Left', 'rotateRight'], ['', 'rotateLeft', 'rotateRight'], ['', 'Left', 'Left'], ['', 'Right', 'Right', 'rotateRight'], ['', 'rotateRight', 'rotateRight'], ['', 'Right', 'Right'], ['', 'Right', 'Right'], ['', 'Left', 'Left', 'Left'], ['', 'rotateRight', 'rotateLeft'], ['', 'rotateLeft', 'rotateLeft'], ['', 'rotateRight'], ['', 'rotateRight', 'Left', 'rotateRight'], ['', 'Left', 'rotateLeft'], ['', 'Left', 'Left', 'rotateRight'], ['', 'Right'], ['', 'Right'], ['', 'Left', 'Right', 'Left'], ['', 'Left', 'Left'], ['', 'Right', 'Left', 'Right'], ['', 'rotateRight', 'rotateRight', 'Right'], ['', 'rotateLeft', 'rotateLeft', 'Left'], ['', 'Right', 'rotateLeft', 'rotateRight'], ['', 'Left', 'Left'], ['', 'rotateRight', 'rotateRight', 'rotateRight'], ['', 'Right', 'Right'], ['', 'Left', 'rotateRight'], ['', 'Right', 'rotateRight', 'rotateLeft'], ['', 'Left', 'rotateRight', 'rotateRight'], ['', 'rotateRight', 'rotateLeft', 'rotateLeft'], ['', 'Left', 'Left'], ['', 'Right', 'rotateLeft'], ['', 'Right'], ['', 'rotateRight', 'Left', 'rotateRight'], ['', 'Left', 'Right', 'rotateRight'], ['', 'Left', 'Right'], ['', 'rotateRight', 'rotateLeft'], ['', 'Left', 'rotateLeft'], ['', 'Right'], ['', 'Left', 'rotateLeft', 'rotateLeft'], ['', 'rotateRight', 'rotateRight', 'rotateRight'], ['', 'Right', 'rotateLeft', 'Left'], ['', 'Left', 'Right'], ['', 'rotateLeft', 'rotateRight'], ['', 'Left', 'rotateRight', 'Right'], ['', 'rotateLeft', 'rotateRight', 'Right'], ['', 'Right', 'rotateRight'], ['', 'Left'], ['', 'Right', 'rotateRight', 'Right'], ['', 'Right', 'Right'], ['', 'rotateLeft', 'rotateLeft'], ['', 'Left', 'Right', 'rotateRight'], ['', 'Left', 'rotateRight'], ['', 'rotateRight'], ['', 'Right', 'rotateLeft', 'rotateRight'], ['', 'rotateRight', 'Left'], ['', 'rotateRight', 'Right', 'rotateLeft'], ['', 'Right', 'rotateRight'], ['', 'rotateLeft', 'rotateRight', 'Left'], ['', 'Left', 'Left', 'rotateRight'], ['', 'Left', 'Left', 'rotateLeft'], ['', 'rotateRight', 'Left', 'rotateRight'], ['', 'Right', 'rotateRight', 'Right'], ['', 'rotateRight', 'rotateLeft'], ['', 'rotateLeft', 'Left', 'Right'], ['', 'rotateLeft', 'Left', 'Left'], ['', 'Right', 'Right'], ['', 'rotateLeft', 'Left', 'Right'], ['', 'rotateLeft', 'Left', 'rotateLeft'], ['', 'rotateRight', 'rotateLeft', 'Left'], ['', 'Left', 'Left'], ['', 'rotateRight', 'Right', 'Left'], ['', 'rotateRight', 'Left', 'Left'], ['', 'rotateLeft', 'Left', 'Left'], ['', 'rotateLeft', 'Right'], ['', 'Right', 'Left', 'Left'], ['', 'Right', 'Right', 'rotateLeft'], ['', 'Left'], ['', 'rotateLeft', 'rotateRight'], ['', 'Left', 'Left', 'Left'], ['', 'Left', 'rotateLeft', 'rotateRight']]\n",
      "7704\n"
     ]
    }
   ],
   "source": [
    "import re\n",
    "from tensorflow.keras import Input, Model\n",
    "from tensorflow.keras.layers import Conv2D, MaxPooling2D, Flatten\n",
    "from tensorflow.keras.layers import LSTM, Dense, Input\n",
    "from tensorflow.keras.models import Model\n",
    "\n",
    "\n",
    "stats = open(\"Results.txt\")\n",
    "statString = stats.read()\n",
    "list = re.split(r\"[:\\n[;*]\",statString)\n",
    "figures = []\n",
    "directions = []\n",
    "images = []\n",
    "score = []\n",
    "status = []\n",
    "splitDirections = []\n",
    "\n",
    "\n",
    "\n",
    "for item in list:\n",
    "    if item.endswith(\"figure \"):\n",
    "        figures.append(item)\n",
    "    if item.startswith(\"(\"):\n",
    "        directions.append(item)\n",
    "    if item.startswith(\"image\"):\n",
    "        images.append(item)\n",
    "    if item.startswith(\"score\"):\n",
    "        score.append(item)\n",
    "    if item.startswith(\"STILL\") or item.startswith(\"GAME\"):\n",
    "        status.append(item)\n",
    "\n",
    "for d in directions:\n",
    "    allDir = d.split(\"(\")\n",
    "    splitDirections.append(allDir)\n",
    "    \n",
    "        \n",
    "print(figures)\n",
    "print(directions)\n",
    "print(images)\n",
    "print(score)\n",
    "print(status)\n",
    "print(splitDirections)\n",
    "\n",
    "#size of the image for the input\n",
    "imageSize = 77*100\n",
    "#how we encode the moves example here is 0=right, 1=left and so on\n",
    "moves = 1\n",
    "#how many figures we send, aka 1\n",
    "figure = 1\n",
    "\n",
    "#all features togheter\n",
    "featuresPerTimestamp = imageSize+moves+figure\n",
    "\n",
    "#the layer for the input\n",
    "inputLayer = Input(shape=(3, featuresPerTimestamp))\n",
    "#Layer for the RNN\n",
    "lstmLayer = LSTM(units=64)(inputLayer)\n",
    "#Dense layer before the output\n",
    "denseLayer = Dense(units=64, activation=\"relu\")(lstmLayer)\n",
    "#Output which is either that it predicts GAME_OVER or STILL_PLAYING\n",
    "outputLayer = Dense(units=1, activation =\"sigmoid\")(denseLayer)\n",
    "print(featuresPerTimestamp)"
   ]
  },
  {
   "cell_type": "code",
   "execution_count": null,
   "id": "5a2a86a4-a0fa-42b7-b230-6982858cccb8",
   "metadata": {},
   "outputs": [],
   "source": []
  },
  {
   "cell_type": "code",
   "execution_count": null,
   "id": "d7e732ba-adaa-45e2-bbf8-d5f79bd2c96f",
   "metadata": {},
   "outputs": [],
   "source": []
  }
 ],
 "metadata": {
  "kernelspec": {
   "display_name": "Python 3 (ipykernel)",
   "language": "python",
   "name": "python3"
  },
  "language_info": {
   "codemirror_mode": {
    "name": "ipython",
    "version": 3
   },
   "file_extension": ".py",
   "mimetype": "text/x-python",
   "name": "python",
   "nbconvert_exporter": "python",
   "pygments_lexer": "ipython3",
   "version": "3.9.21"
  }
 },
 "nbformat": 4,
 "nbformat_minor": 5
}

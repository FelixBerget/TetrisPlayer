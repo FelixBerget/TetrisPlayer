{
 "cells": [
  {
   "cell_type": "code",
   "execution_count": 25,
   "id": "a03cf1eb-a2ac-4667-9b44-2c6103407dbc",
   "metadata": {
    "scrolled": true
   },
   "outputs": [
    {
     "name": "stdout",
     "output_type": "stream",
     "text": [
      "['', 'L figure ', '(Left (Right (Left (Right (Right ', 'image nr 4664676532.jpg', 'score=0', 'STILL_PLAYING', 'O figure ', '(Left (Left (Right (Left (Left (Right ', 'image nr 8756618342.jpg', 'score=0', 'STILL_PLAYING', 'Z figure ', '(Left (Left (Right (Right (Right (Left ', 'image nr 72901187.jpg', 'score=0', 'STILL_PLAYING', 'J figure ', '(Right (Right (Left (Right (Left (Right (Left ', 'image nr 1772729193.jpg', 'score=0', 'STILL_PLAYING', 'I figure ', '(Right (Left (Right (Left (Right ', 'image nr 4964355933.jpg', 'score=126', '', 'STILL_PLAYING', 'S figure ', '(Left (Right (Right (Left (Left ', 'image nr 7409821221.jpg', 'score=132', '', 'STILL_PLAYING', 'S figure ', '(Left (Right (Left (Right (Right (Left (Left ', 'image nr 5232842817.jpg', 'score=134', '', 'GAME_OVER', 'O figure ', '(Left (Right (Left (Right (Left (Right ', 'image nr 2655533296.jpg', 'score=134', '', 'STILL_PLAYING', 'S figure ', '(Left (Right (Right (Left (Left (Right (Left ', 'image nr 10225098.jpg', 'score=134', '', 'STILL_PLAYING', 'L figure ', '(Left (Right (Left (Left (Right ', 'image nr 439782219.jpg', 'score=134', '', 'STILL_PLAYING']\n"
     ]
    }
   ],
   "source": [
    "import re\n",
    "\n",
    "stats = open(\"Results.txt\")\n",
    "statString = stats.read()\n",
    "list = re.split(r\"[:\\n[;*]\",statString)\n",
    "\n",
    "for item in list:\n",
    "    if item.endswith(\"figure \"):\n",
    "        print(item)\n",
    "print(list)\n"
   ]
  },
  {
   "cell_type": "code",
   "execution_count": null,
   "id": "5a2a86a4-a0fa-42b7-b230-6982858cccb8",
   "metadata": {},
   "outputs": [],
   "source": []
  },
  {
   "cell_type": "code",
   "execution_count": null,
   "id": "d7e732ba-adaa-45e2-bbf8-d5f79bd2c96f",
   "metadata": {},
   "outputs": [],
   "source": []
  }
 ],
 "metadata": {
  "kernelspec": {
   "display_name": "Python 3 (ipykernel)",
   "language": "python",
   "name": "python3"
  },
  "language_info": {
   "codemirror_mode": {
    "name": "ipython",
    "version": 3
   },
   "file_extension": ".py",
   "mimetype": "text/x-python",
   "name": "python",
   "nbconvert_exporter": "python",
   "pygments_lexer": "ipython3",
   "version": "3.9.21"
  }
 },
 "nbformat": 4,
 "nbformat_minor": 5
}

{
 "cells": [
  {
   "cell_type": "code",
   "execution_count": null,
   "id": "a03cf1eb-a2ac-4667-9b44-2c6103407dbc",
   "metadata": {},
   "outputs": [],
   "source": [
    "import tensorflow as tf\n",
    "from tensorflow import keras\n",
    "from tensorflow.keras import layers\n",
    "\n",
    "\n",
    "#Has to be used constantly to learn it up\n",
    "rModel = keras.Sequential([\n",
    "    layers.Conv2D(32, kernel_size=(8,8), stride=4)\n",
    "    layers.Conv2D(64, kernal_size=(4,4), stride=2)\n",
    "    layers.Conv2D(64, kernel_size=(3,3), stride=1)\n",
    "    layers.Flatten(input_shape=(\"\",\"\"))\n",
    "    layers.Dense(4,activation='softmax')\n",
    "])\n",
    "\n",
    "\n",
    "#Gets the accuracy\n",
    "model.compile(\n",
    "    optimizer='adam',\n",
    "    loss='binary_crossentropy',\n",
    "    metrics=['accuracy']\n",
    "    \n",
    ")\n"
   ]
  }
 ],
 "metadata": {
  "kernelspec": {
   "display_name": "Python 3 (ipykernel)",
   "language": "python",
   "name": "python3"
  },
  "language_info": {
   "codemirror_mode": {
    "name": "ipython",
    "version": 3
   },
   "file_extension": ".py",
   "mimetype": "text/x-python",
   "name": "python",
   "nbconvert_exporter": "python",
   "pygments_lexer": "ipython3",
   "version": "3.9.21"
  }
 },
 "nbformat": 4,
 "nbformat_minor": 5
}
